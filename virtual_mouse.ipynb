{
 "cells": [
  {
   "cell_type": "code",
   "execution_count": null,
   "id": "50a8afc9",
   "metadata": {
    "vscode": {
     "languageId": "plaintext"
    }
   },
   "outputs": [],
   "source": [
    "import cv2\n",
    "import mediapipe as mp\n",
    "import pyautogui\n",
    "import utility\n",
    "import random\n",
    "from pynput.mouse import Button, Controller\n",
    "mouse=Controller()"
   ]
  },
  {
   "cell_type": "code",
   "execution_count": null,
   "id": "c0d622e1",
   "metadata": {
    "vscode": {
     "languageId": "plaintext"
    }
   },
   "outputs": [],
   "source": [
    "screen_width,screen_height=pyautogui.size()\n",
    "mpHands=mp.solutions.hands\n",
    "mpDrawing = mp.solutions.drawing_utils \n",
    "hands=mpHands.Hands(\n",
    "    static_image_mode=False,\n",
    "    model_complexity=1,\n",
    "    min_detection_confidence=0.7,\n",
    "    min_tracking_confidence=0.7,\n",
    "    max_num_hands=1\n",
    ")"
   ]
  },
  {
   "cell_type": "code",
   "execution_count": null,
   "id": "54fc2c44",
   "metadata": {
    "vscode": {
     "languageId": "plaintext"
    }
   },
   "outputs": [],
   "source": [
    "def find_finger_tip(processed):\n",
    "    if processed.multi_hand_landmarks:\n",
    "        hand_landmarks=processed.multi_hand_landmarks[0]\n",
    "        return hand_landmarks.landmark[mpHands.HandLandmark.INDEX_FINGER_TIP]\n",
    "\n",
    "    return None"
   ]
  },
  {
   "cell_type": "code",
   "execution_count": null,
   "id": "2d702f2d",
   "metadata": {
    "vscode": {
     "languageId": "plaintext"
    }
   },
   "outputs": [],
   "source": [
    "def move_mouse(index_finger_tip):\n",
    "    if index_finger_tip is not None:\n",
    "        x=int(index_finger_tip.x * screen_width)\n",
    "        y=int(index_finger_tip.y * screen_height)\n",
    "        pyautogui.moveTo(x,y)"
   ]
  },
  {
   "cell_type": "code",
   "execution_count": null,
   "id": "87153c04",
   "metadata": {
    "vscode": {
     "languageId": "plaintext"
    }
   },
   "outputs": [],
   "source": [
    "def is_left_click(landmarks_list,thumb_index_dist):\n",
    "    return (utility.get_angle(landmarks_list[5],landmarks_list[6],landmarks_list[8])<50 and \n",
    "       utility.get_angle(landmarks_list[9],landmarks_list[10],landmarks_list[12])>90 and \n",
    "        thumb_index_dist>50  )\n",
    "\n",
    "    \n",
    "def is_right_click(landmarks_list,thumb_index_dist):\n",
    "    return (utility.get_angle(landmarks_list[9],landmarks_list[10],landmarks_list[12])<50 and \n",
    "       utility.get_angle(landmarks_list[5],landmarks_list[6],landmarks_list[8])>90 and \n",
    "        thumb_index_dist>50  )\n",
    "\n",
    "    \n",
    "def is_screenshot(landmarks_list,thumb_index_dist):\n",
    "    return (utility.get_angle(landmarks_list[5],landmarks_list[6],landmarks_list[8])<50 and \n",
    "       utility.get_angle(landmarks_list[9],landmarks_list[10],landmarks_list[12])<50 and \n",
    "        thumb_index_dist<50  )\n",
    "\n",
    "\n",
    "def is_double_click(landmarks_list,thumb_index_dist):\n",
    "    return (utility.get_angle(landmarks_list[5],landmarks_list[6],landmarks_list[8])<50 and \n",
    "       utility.get_angle(landmarks_list[9],landmarks_list[10],landmarks_list[12])<50 and \n",
    "        thumb_index_dist>50  )"
   ]
  },
  {
   "cell_type": "code",
   "execution_count": null,
   "id": "397df3f0",
   "metadata": {
    "vscode": {
     "languageId": "plaintext"
    }
   },
   "outputs": [],
   "source": [
    "def detect_gestures(frame,landmarks_list,processed):\n",
    "    if len(landmarks_list)>=21:\n",
    "\n",
    "        index_finger_tip=find_finger_tip(processed)\n",
    "        thumb_index_dist=utility.get_distance([landmarks_list[4],landmarks_list[5]])\n",
    "\n",
    "        if  thumb_index_dist<50 and utility.get_angle(landmarks_list[5],landmarks_list[6],landmarks_list[8])>90:\n",
    "            move_mouse(index_finger_tip)\n",
    "        #LEFT CLICK\n",
    "        elif is_left_click(landmarks_list,thumb_index_dist):\n",
    "            mouse.press(Button.left)\n",
    "            mouse.release(Button.left)\n",
    "            cv2.putText(frame,\"Left Click\",(50,50),cv2.FONT_HERSHEY_SIMPLEX,1,(0,255,0),2)\n",
    "\n",
    "        elif is_right_click(landmarks_list,thumb_index_dist):\n",
    "            mouse.press(Button.right)\n",
    "            mouse.release(Button.right)\n",
    "            cv2.putText(frame,\"Right Click\",(50,50),cv2.FONT_HERSHEY_SIMPLEX,1,(0,0,255),2)\n",
    "\n",
    "        elif is_double_click(landmarks_list,thumb_index_dist):\n",
    "            pyautogui.doubleClick()\n",
    "            cv2.putText(frame,\"Double Click\",(50,50),cv2.FONT_HERSHEY_SIMPLEX,1,(255,255,0),2)\n",
    "\n",
    "        elif is_screenshot(landmarks_list,thumb_index_dist):\n",
    "            im1=pyautogui.screenshot()\n",
    "            label=random.randint(1,1000)\n",
    "            im1.save(f'my_screenshot_{label}.png')\n",
    "            cv2.putText(frame,\"Screenshot\",(50,50),cv2.FONT_HERSHEY_SIMPLEX,1,(255,255,0),2)\n",
    "\n",
    "            \n",
    "            \n",
    "        "
   ]
  },
  {
   "cell_type": "code",
   "execution_count": null,
   "id": "febe55f7",
   "metadata": {
    "vscode": {
     "languageId": "plaintext"
    }
   },
   "outputs": [],
   "source": [
    "def main():\n",
    "    cap = cv2.VideoCapture(0)\n",
    "    try:\n",
    "        while cap.isOpened():\n",
    "            ret, frame = cap.read()\n",
    "            if not ret:\n",
    "                break\n",
    "            frame = cv2.flip(frame, 1)\n",
    "            frameRGB = cv2.cvtColor(frame, cv2.COLOR_BGR2RGB)\n",
    "            processed = hands.process(frameRGB)\n",
    "            landmarks_list = []\n",
    "\n",
    "            if processed.multi_hand_landmarks:\n",
    "                hand_landmarks = processed.multi_hand_landmarks[0]\n",
    "                mpDrawing.draw_landmarks(frame, hand_landmarks, mpHands.HAND_CONNECTIONS)  # ✅ draw fixed\n",
    "\n",
    "                for lm in hand_landmarks.landmark:\n",
    "                    landmarks_list.append((lm.x, lm.y))\n",
    "                    \n",
    "            detect_gestures(frame,landmarks_list,processed)\n",
    "\n",
    "\n",
    "            cv2.imshow('Frame', frame)\n",
    "            if cv2.waitKey(1) & 0xFF == ord('q'):\n",
    "                break\n",
    "    finally:\n",
    "        cap.release()\n",
    "        cv2.destroyAllWindows()\n",
    "\n",
    "if __name__ == '__main__':\n",
    "    main()"
   ]
  }
 ],
 "metadata": {
  "language_info": {
   "name": "python"
  }
 },
 "nbformat": 4,
 "nbformat_minor": 5
}
